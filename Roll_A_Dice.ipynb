{
  "nbformat": 4,
  "nbformat_minor": 0,
  "metadata": {
    "colab": {
      "name": "Roll A Dice.ipynb",
      "version": "0.3.2",
      "provenance": [],
      "toc_visible": true,
      "include_colab_link": true
    },
    "kernelspec": {
      "name": "python3",
      "display_name": "Python 3"
    }
  },
  "cells": [
    {
      "cell_type": "markdown",
      "metadata": {
        "id": "view-in-github",
        "colab_type": "text"
      },
      "source": [
        "[View in Colaboratory](https://colab.research.google.com/github/jatin0711/My-Projects/blob/master/Roll_A_Dice.ipynb)"
      ]
    },
    {
      "metadata": {
        "id": "DufWlcID8FAA",
        "colab_type": "text"
      },
      "cell_type": "markdown",
      "source": [
        "\n",
        "\n"
      ]
    },
    {
      "metadata": {
        "id": "WdcyA6kKrWx1",
        "colab_type": "code",
        "colab": {
          "base_uri": "https://localhost:8080/",
          "height": 115
        },
        "outputId": "eabf1857-ce4b-477f-9eee-dd742ce0c287"
      },
      "cell_type": "code",
      "source": [
        "import random\n",
        "min=1\n",
        "max=6\n",
        "roll_again='yes'\n",
        "while roll_again==\"yes\" or roll_again==\"y\":\n",
        "  print(random.randint(min,max))\n",
        "  roll_again=input(\"roll the dice again\")\n",
        "  \n",
        "  "
      ],
      "execution_count": 3,
      "outputs": [
        {
          "output_type": "stream",
          "text": [
            "6\n",
            "roll the dice againy\n",
            "6\n",
            "roll the dice againyes\n",
            "3\n",
            "roll the dice againn\n"
          ],
          "name": "stdout"
        }
      ]
    },
    {
      "metadata": {
        "id": "J5BHeYt1PQ0Y",
        "colab_type": "text"
      },
      "cell_type": "markdown",
      "source": [
        ""
      ]
    }
  ]
}